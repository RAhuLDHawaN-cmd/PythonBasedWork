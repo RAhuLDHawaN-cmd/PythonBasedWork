{
 "cells": [
  {
   "cell_type": "code",
   "execution_count": null,
   "metadata": {},
   "outputs": [],
   "source": [
    "#!/bin/python3\n",
    "\n",
    "import random\n",
    "\n",
    "print('''\n",
    "Password Generator\n",
    "==================\n",
    "''')\n",
    "\n",
    "chars = 'abcdefghijklmnopqrstuvwxyzABCDEFGHIJKLMNOPQRSTUVWXYZ!@£$%^&*().,?0123456789'\n",
    "passlist=[]\n",
    "number = input('number of passwords you want ?')\n",
    "number = int(number)\n",
    "\n",
    "length = input('password length of each password?')\n",
    "length = int(length)\n",
    "\n",
    "print('\\n So here are your passwords:')\n",
    "\n",
    "for pwd in range(number):\n",
    "  password = ''\n",
    "  for c in range(length):\n",
    "    password += random.choice(chars)\n",
    "  passlist.append(password)  \n",
    "\n",
    "print(passlist)\n"
   ]
  }
 ],
 "metadata": {
  "kernelspec": {
   "display_name": "Python 3",
   "language": "python",
   "name": "python3"
  },
  "language_info": {
   "codemirror_mode": {
    "name": "ipython",
    "version": 3
   },
   "file_extension": ".py",
   "mimetype": "text/x-python",
   "name": "python",
   "nbconvert_exporter": "python",
   "pygments_lexer": "ipython3",
   "version": "3.7.3"
  }
 },
 "nbformat": 4,
 "nbformat_minor": 2
}
