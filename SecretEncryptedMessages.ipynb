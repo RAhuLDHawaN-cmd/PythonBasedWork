{
 "cells": [
  {
   "cell_type": "code",
   "execution_count": 1,
   "metadata": {},
   "outputs": [
    {
     "name": "stdout",
     "output_type": "stream",
     "text": [
      "Enter message to be Encrypted\n",
      "222\n",
      "Enter a key value for Encryption Procedure\n",
      "3\n",
      "the final Encrypted message is 999\n"
     ]
    }
   ],
   "source": [
    "#!/bin/python3\n",
    "all='4be5a0no1fg8hip2qcd67jklm3v9wuxrstyz' #all alphabets scattred\n",
    "smess='' #modified final message\n",
    "print(\"Enter message to be Encrypted\")\n",
    "\n",
    "mess=input()\n",
    "\n",
    "print(\"Enter a key value for Encryption Procedure\")\n",
    "k=int(input())\n",
    "if(k!=0):\n",
    "    k=k+2\n",
    "else:\n",
    "    k=0\n",
    "nele=''\n",
    "f=0\n",
    "for i in mess:\n",
    "    if i in all:\n",
    "        pos=all.find(i) # find position of current alphabet\n",
    "        npos=(pos+k)%36\n",
    "        nele=all[npos]\n",
    "        smess+=nele\n",
    "    else:\n",
    "        print(\"Enter valid message\")\n",
    "        f=1\n",
    "        break\n",
    "if(f==0):\n",
    "    print(\"the final Encrypted message is\",smess)\n",
    "\n",
    " \n"
   ]
  },
  {
   "cell_type": "code",
   "execution_count": null,
   "metadata": {},
   "outputs": [],
   "source": []
  }
 ],
 "metadata": {
  "kernelspec": {
   "display_name": "Python 3",
   "language": "python",
   "name": "python3"
  },
  "language_info": {
   "codemirror_mode": {
    "name": "ipython",
    "version": 3
   },
   "file_extension": ".py",
   "mimetype": "text/x-python",
   "name": "python",
   "nbconvert_exporter": "python",
   "pygments_lexer": "ipython3",
   "version": "3.7.3"
  }
 },
 "nbformat": 4,
 "nbformat_minor": 2
}
